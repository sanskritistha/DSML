{
 "cells": [
  {
   "cell_type": "code",
   "execution_count": 1,
   "id": "5592633c-f461-4049-a17f-a7e6530c9972",
   "metadata": {},
   "outputs": [
    {
     "data": {
      "text/plain": [
       "['Drawing closer', 'true spirit']"
      ]
     },
     "execution_count": 1,
     "metadata": {},
     "output_type": "execute_result"
    }
   ],
   "source": [
    "#4. Create a list of your favorite movies and print it. Then, append a new movie to the list and\n",
    "#print the updated list.\n",
    "movies=[\"Drawing closer\", \"true spirit\"]\n",
    "movies"
   ]
  },
  {
   "cell_type": "code",
   "execution_count": 3,
   "id": "0b9ff156-7215-4ec8-b8f7-3118c9cd4db9",
   "metadata": {},
   "outputs": [
    {
     "data": {
      "text/plain": [
       "['Drawing closer', 'true spirit', 'The pursuit of happiness']"
      ]
     },
     "execution_count": 3,
     "metadata": {},
     "output_type": "execute_result"
    }
   ],
   "source": [
    "movies. append(\"The pursuit of happiness\")\n",
    "movies"
   ]
  },
  {
   "cell_type": "code",
   "execution_count": null,
   "id": "3f17762d-901a-412a-889c-f8a8991981b4",
   "metadata": {},
   "outputs": [],
   "source": []
  },
  {
   "cell_type": "code",
   "execution_count": 1,
   "id": "75627c6e-26cb-47a1-bf32-39c50725af42",
   "metadata": {},
   "outputs": [
    {
     "data": {
      "text/plain": [
       "[1, 2, 3, 4, 5, 6, 7, 8, 9, 10]"
      ]
     },
     "execution_count": 1,
     "metadata": {},
     "output_type": "execute_result"
    }
   ],
   "source": [
    "#5. Create a list of integers from 1 to 10 and print it. Calculate the sum of all the numbers in\n",
    "#the list and print the result.\n",
    "a=[1,2,3,4,5,6,7,8,9,10]\n",
    "a\n",
    "\n"
   ]
  },
  {
   "cell_type": "code",
   "execution_count": 5,
   "id": "e76dd4c0-c101-434b-9f69-c0b50d1a49ad",
   "metadata": {},
   "outputs": [
    {
     "data": {
      "text/plain": [
       "[1, 2, 3, 4, 5, 6, 7, 8, 9, 10]"
      ]
     },
     "execution_count": 5,
     "metadata": {},
     "output_type": "execute_result"
    }
   ],
   "source": [
    "num=list(range(1,11))\n",
    "num"
   ]
  },
  {
   "cell_type": "code",
   "execution_count": 11,
   "id": "49534fe7-2f1e-4a8a-b0c8-8dc03069de66",
   "metadata": {},
   "outputs": [
    {
     "data": {
      "text/plain": [
       "55"
      ]
     },
     "execution_count": 11,
     "metadata": {},
     "output_type": "execute_result"
    }
   ],
   "source": [
    "total_sum=sum(num)\n",
    "total_sum"
   ]
  },
  {
   "cell_type": "code",
   "execution_count": 25,
   "id": "f32b4f74-7929-45b6-8536-6ae91177b0ff",
   "metadata": {},
   "outputs": [
    {
     "data": {
      "text/plain": [
       "['hello', 12, 12.5]"
      ]
     },
     "execution_count": 25,
     "metadata": {},
     "output_type": "execute_result"
    }
   ],
   "source": [
    "#6. Create a list of mixed data types including strings, integers, and floats and print it. Remove\n",
    "#the first element from the list and print the modified list.\n",
    "list=[\"hello\",12,12.5]\n",
    "list"
   ]
  },
  {
   "cell_type": "code",
   "execution_count": 27,
   "id": "a890d2c8-1061-4cc7-8f23-0461756a2995",
   "metadata": {},
   "outputs": [
    {
     "data": {
      "text/plain": [
       "[12, 12.5]"
      ]
     },
     "execution_count": 27,
     "metadata": {},
     "output_type": "execute_result"
    }
   ],
   "source": [
    "list.pop(0)\n",
    "list"
   ]
  },
  {
   "cell_type": "code",
   "execution_count": 29,
   "id": "acabd737-361b-4793-8764-6ef9b6f6c7dc",
   "metadata": {},
   "outputs": [
    {
     "data": {
      "text/plain": [
       "('Sunday', 'Monday', 'Tuesday', 'Wednesday', 'Thursday', 'Friday')"
      ]
     },
     "execution_count": 29,
     "metadata": {},
     "output_type": "execute_result"
    }
   ],
   "source": [
    "#7. Create a tuple containing the names of the days of the week and print it. Access and print\n",
    "#the name of the third day.\n",
    "days=(\"Sunday\",\"Monday\",\"Tuesday\",\"Wednesday\",\"Thursday\",\"Friday\")\n",
    "days"
   ]
  },
  {
   "cell_type": "code",
   "execution_count": 33,
   "id": "86bb9acb-2e8f-4356-9b14-a48b24fdf308",
   "metadata": {},
   "outputs": [
    {
     "data": {
      "text/plain": [
       "'Tuesday'"
      ]
     },
     "execution_count": 33,
     "metadata": {},
     "output_type": "execute_result"
    }
   ],
   "source": [
    "thirddays=days[2]\n",
    "thirddays"
   ]
  },
  {
   "cell_type": "code",
   "execution_count": 35,
   "id": "0eba2077-5d65-45c0-ba14-05f817f60e51",
   "metadata": {},
   "outputs": [
    {
     "data": {
      "text/plain": [
       "('blue', 'green', 'black', 'white')"
      ]
     },
     "execution_count": 35,
     "metadata": {},
     "output_type": "execute_result"
    }
   ],
   "source": [
    "#8. Create a tuple of your favorite colors and print it. Check if a certain color is present in the\n",
    "#tuple and print the result.\n",
    "colors=(\"blue\",\"green\",\"black\",\"white\")\n",
    "colors"
   ]
  },
  {
   "cell_type": "code",
   "execution_count": 43,
   "id": "728fef5c-e59c-4a6a-8e84-f4ad0cda2b1b",
   "metadata": {},
   "outputs": [
    {
     "data": {
      "text/plain": [
       "True"
      ]
     },
     "execution_count": 43,
     "metadata": {},
     "output_type": "execute_result"
    }
   ],
   "source": [
    "checkColors='black'\n",
    "ispresent=checkColors in colors\n",
    "ispresent"
   ]
  },
  {
   "cell_type": "code",
   "execution_count": 17,
   "id": "9648c9cb-3efe-4c1b-9cdb-f8f2e7a439ce",
   "metadata": {},
   "outputs": [
    {
     "name": "stdout",
     "output_type": "stream",
     "text": [
      "Original :  {'title': 'Machine Learning', 'author': 'Tom M. Mitchell', 'year': 1997}\n"
     ]
    }
   ],
   "source": [
    "#9. Create a dictionary representing the information of a book with the keys \"title\", \"author\", and\n",
    "#\"year\" and print it. Update the year of the book and print the updated dictionary.\n",
    "Books={\"title\": \"Machine Learning\", \"author\" : \"Tom M. Mitchell\" , \"year\" : 1997}\n",
    "print(\"Original : \" , Books)"
   ]
  },
  {
   "cell_type": "code",
   "execution_count": 19,
   "id": "c729bc5c-2c65-4694-81e1-5eca47dba469",
   "metadata": {},
   "outputs": [
    {
     "name": "stdout",
     "output_type": "stream",
     "text": [
      "Updated dictionary: {'title': 'Machine Learning', 'author': 'Tom M. Mitchell', 'year': 2024}\n"
     ]
    }
   ],
   "source": [
    "Books[\"year\"] = 2024\n",
    "print(\"Updated dictionary:\",Books)"
   ]
  },
  {
   "cell_type": "code",
   "execution_count": 21,
   "id": "747eeaa7-b915-42e9-9d8f-450233920a1d",
   "metadata": {},
   "outputs": [
    {
     "data": {
      "text/plain": [
       "{'cherry': 'red', 'Banana': 'Yellow', 'Avocado': 'Green'}"
      ]
     },
     "execution_count": 21,
     "metadata": {},
     "output_type": "execute_result"
    }
   ],
   "source": [
    "\n",
    "# 10. Create a dictionary containing the names of fruits as keys and their corresponding colors as values and print it. Add a new fruit-color pair to the dictionary and print the updated dictionary.\n",
    "Fruits={\"cherry\" : \"red\", \"Banana\": \"Yellow\", \"Avocado\": \"Green\"}\n",
    "Fruits"
   ]
  },
  {
   "cell_type": "code",
   "execution_count": 23,
   "id": "b5a8faa2-4f5f-4b67-88c6-d867cb03229a",
   "metadata": {},
   "outputs": [
    {
     "name": "stdout",
     "output_type": "stream",
     "text": [
      "Updated :  {'cherry': 'red', 'Banana': 'Yellow', 'Avocado': 'Green', 'Apple': 'red'}\n"
     ]
    }
   ],
   "source": [
    "Fruits[\"Apple\"]=\"red\"\n",
    "print(\"Updated : \", Fruits)"
   ]
  },
  {
   "cell_type": "code",
   "execution_count": 29,
   "id": "d69361fb-b980-4fcb-b57f-5d19dcfdddd9",
   "metadata": {},
   "outputs": [
    {
     "data": {
      "text/plain": [
       "{'Kathmandu': 100000, 'mustang': 15000, 'pokhara': 300000, 'Baglung': 20000}"
      ]
     },
     "execution_count": 29,
     "metadata": {},
     "output_type": "execute_result"
    }
   ],
   "source": [
    "# 11. Create a dictionary representing the population of different cities with keys as city names and values as population numbers and print it. Remove a city from the dictionary and print the modified dictionary.\n",
    "cities={\"Kathmandu\" :100000 , \"mustang\" :15000 , \"pokhara\" : 300000 , \"Baglung\" : 20000}\n",
    "cities"
   ]
  },
  {
   "cell_type": "code",
   "execution_count": 33,
   "id": "266f81db-0312-4e66-895a-3ef6759e0bd9",
   "metadata": {},
   "outputs": [
    {
     "data": {
      "text/plain": [
       "{'Kathmandu': 100000, 'pokhara': 300000, 'Baglung': 20000}"
      ]
     },
     "execution_count": 33,
     "metadata": {},
     "output_type": "execute_result"
    }
   ],
   "source": [
    "cities.pop(\"mustang\")\n",
    "cities"
   ]
  },
  {
   "cell_type": "code",
   "execution_count": null,
   "id": "9567a850-5b20-4ed6-9b50-f0b6b578ba6f",
   "metadata": {},
   "outputs": [],
   "source": []
  }
 ],
 "metadata": {
  "kernelspec": {
   "display_name": "Python 3 (ipykernel)",
   "language": "python",
   "name": "python3"
  },
  "language_info": {
   "codemirror_mode": {
    "name": "ipython",
    "version": 3
   },
   "file_extension": ".py",
   "mimetype": "text/x-python",
   "name": "python",
   "nbconvert_exporter": "python",
   "pygments_lexer": "ipython3",
   "version": "3.12.4"
  }
 },
 "nbformat": 4,
 "nbformat_minor": 5
}
