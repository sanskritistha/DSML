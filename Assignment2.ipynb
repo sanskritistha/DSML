{
 "cells": [
  {
   "cell_type": "code",
   "execution_count": 1,
   "id": "a262d8c5-c2dc-406e-b458-8ea4ea850e10",
   "metadata": {},
   "outputs": [
    {
     "name": "stdout",
     "output_type": "stream",
     "text": [
      "[ 1  2  3  4  5  6  7  8  9 10]\n"
     ]
    }
   ],
   "source": [
    "#1. Array Creation:\n",
    "#a.Create a 1-dimensional array of integers from 1 to 10.\n",
    "import numpy as np\n",
    "arr = np.arange(1, 11)\n",
    "print(arr)"
   ]
  },
  {
   "cell_type": "code",
   "execution_count": 5,
   "id": "410e7df0-b8a6-48f4-b743-5e5ad56d73f8",
   "metadata": {},
   "outputs": [
    {
     "data": {
      "text/plain": [
       "array([[0.22806476, 0.27358814, 0.52419281, 0.96307895],\n",
       "       [0.89592704, 0.52583382, 0.62041574, 0.26221097],\n",
       "       [0.242288  , 0.80074249, 0.41448198, 0.52159577]])"
      ]
     },
     "execution_count": 5,
     "metadata": {},
     "output_type": "execute_result"
    }
   ],
   "source": [
    "# b. Create a 2-dimensional array with random float values of shape (3, 4).\n",
    "arr1=np.random.rand(3,4)\n",
    "arr1"
   ]
  },
  {
   "cell_type": "code",
   "execution_count": 7,
   "id": "fd807f81-275b-4551-80df-9cdccb4128da",
   "metadata": {},
   "outputs": [
    {
     "data": {
      "text/plain": [
       "array([[[0.61212843, 0.24932527, 0.29136646, 0.14049317],\n",
       "        [0.98349193, 0.73565917, 0.594063  , 0.03645166],\n",
       "        [0.4801778 , 0.39544112, 0.46316139, 0.42889958]],\n",
       "\n",
       "       [[0.47563487, 0.28747662, 0.15620399, 0.67637788],\n",
       "        [0.51917335, 0.8487142 , 0.35933268, 0.88851669],\n",
       "        [0.57400253, 0.52119549, 0.67521625, 0.55342313]]])"
      ]
     },
     "execution_count": 7,
     "metadata": {},
     "output_type": "execute_result"
    }
   ],
   "source": [
    "arr2=np.random.rand(2,3,4)\n",
    "arr2"
   ]
  },
  {
   "cell_type": "code",
   "execution_count": 18,
   "id": "9587e602-099e-4e29-91a2-053c10968500",
   "metadata": {},
   "outputs": [
    {
     "name": "stdout",
     "output_type": "stream",
     "text": [
      "sum is: [ 7  9 11 13 15]\n",
      "subtractionis: [5 5 5 5 5]\n",
      "product is: [ 6 14 24 36 50]\n",
      "division is: [6.         3.5        2.66666667 2.25       2.        ]\n"
     ]
    }
   ],
   "source": [
    "#2. Array Operations:\n",
    "#Given two 1-dimensional arrays, perform element-wise addition,subtraction, multiplication, and division.\n",
    "a=np.array([6,7,8,9,10])\n",
    "b=np.array([1,2,3,4,5])\n",
    "c=a+b\n",
    "d=a-b\n",
    "e=a*b\n",
    "f=a/b\n",
    "print(\"sum is:\",c)\n",
    "print(\"subtractionis:\",d)\n",
    "print(\"product is:\",e)\n",
    "print(\"division is:\",f)\n"
   ]
  },
  {
   "cell_type": "code",
   "execution_count": null,
   "id": "124ce6fd-8ac8-4c2a-ba97-977aa82ed77a",
   "metadata": {},
   "outputs": [],
   "source": [
    "#b.Calculate the mean, median, and standard deviation of a given 1-dimensional array."
   ]
  },
  {
   "cell_type": "code",
   "execution_count": 7,
   "id": "160be87f-82e0-43b1-bbe1-70d81de1b12b",
   "metadata": {},
   "outputs": [
    {
     "name": "stdout",
     "output_type": "stream",
     "text": [
      "Mean: 6.0\n",
      "Median: 6.0\n",
      "standard Deviation: 2.8284271247461903\n"
     ]
    }
   ],
   "source": [
    "import numpy as np\n",
    "a=np.array([2,4,6,8,10])\n",
    "mean=np.mean(a)\n",
    "median=np.median(a)\n",
    "standard_dev=np.std(a)\n",
    "print(\"Mean:\",mean)\n",
    "print(\"Median:\",median)\n",
    "print(\"standard Deviation:\",standard_dev)"
   ]
  },
  {
   "cell_type": "code",
   "execution_count": 17,
   "id": "9c4947a6-1e64-43c0-9e20-2347602ea959",
   "metadata": {},
   "outputs": [
    {
     "name": "stdout",
     "output_type": "stream",
     "text": [
      "reshaped Array: [[ 1  2  3  4]\n",
      " [ 5  6  7 23]\n",
      " [45 65 11 22]]\n"
     ]
    }
   ],
   "source": [
    "#c.Reshape a 1-dimensional array into a 2-dimensional array of shape (3,4).\n",
    "import numpy as np\n",
    "arr3= np.array([1,2,3,4,5,6,7,23,45,65,11,22])\n",
    "reshaped_array=arr3.reshape(3,4)\n",
    "print(\"reshaped Array:\",reshaped_array)"
   ]
  },
  {
   "cell_type": "code",
   "execution_count": 19,
   "id": "36a876a7-fa6f-4c29-b6eb-2b9325b73b1b",
   "metadata": {},
   "outputs": [
    {
     "name": "stdout",
     "output_type": "stream",
     "text": [
      "First Row: [1 2 3]\n",
      "last Row: [10 11 12]\n"
     ]
    }
   ],
   "source": [
    "#3. Array Indexing and Slicing:\n",
    "#a.Extract the first row and last column of a 2-dimensional array.\n",
    "import numpy as np\n",
    "arr4=np.array([[1,2,3],[4,5,6],[7,8,9],[10,11,12]])\n",
    "first_row=arr4[0,:]\n",
    "last_row=arr4[3,:]\n",
    "print(\"First Row:\",first_row)\n",
    "print(\"last Row:\",last_row)"
   ]
  },
  {
   "cell_type": "code",
   "execution_count": 23,
   "id": "fe216b05-9e4f-4d81-8275-35b07ddae5f9",
   "metadata": {},
   "outputs": [
    {
     "name": "stdout",
     "output_type": "stream",
     "text": [
      "Reverse: [8 7 6 5]\n"
     ]
    }
   ],
   "source": [
    "#b.Reverse the order of elements in a 1-dimensional array.\n",
    "import numpy as np\n",
    "arr5=np.array([5,6,7,8])\n",
    "reverse=arr5[-1::-1]\n",
    "print(\"Reverse:\",reverse)"
   ]
  },
  {
   "cell_type": "code",
   "execution_count": 25,
   "id": "13148059-5a2e-40da-9f99-1563f1606114",
   "metadata": {},
   "outputs": [
    {
     "name": "stdout",
     "output_type": "stream",
     "text": [
      "Elements greater than threshold: [6 7 8 9]\n"
     ]
    }
   ],
   "source": [
    "#c.Select elements from a 2-dimensional array that satisfy a specific condition (e.g., values greater than a certain threshold).\n",
    "import numpy as np\n",
    "arr6=np.array([[1,2,3],[4,5,6],[7,8,9]])\n",
    "threshold=5\n",
    "elements=arr6[arr6>threshold]\n",
    "print(\"Elements greater than threshold:\",elements)"
   ]
  },
  {
   "cell_type": "code",
   "execution_count": 31,
   "id": "78f2fe46-e4da-48a5-a6d8-5237b02a10e4",
   "metadata": {},
   "outputs": [
    {
     "name": "stdout",
     "output_type": "stream",
     "text": [
      "Array after adding scalar: [[11 12 13]\n",
      " [14 15 16]]\n"
     ]
    }
   ],
   "source": [
    "#4. Array Broadcasting:\n",
    "#a.Add a scalar value to each element of a 2-dimensional array.\n",
    "import numpy as np\n",
    "arr7=np.array([[1,2,3],[4,5,6]])\n",
    "scalar=10\n",
    "result=arr7+scalar\n",
    "print(\"Array after adding scalar:\",result)"
   ]
  },
  {
   "cell_type": "code",
   "execution_count": 33,
   "id": "d5c0186c-f035-404b-8308-a2d1cbb2a47b",
   "metadata": {},
   "outputs": [
    {
     "name": "stdout",
     "output_type": "stream",
     "text": [
      "[[ 4 10 18]\n",
      " [ 7 16 27]]\n"
     ]
    }
   ],
   "source": [
    "#b.Multiply a 1-dimensional array with a 2-dimensional array, leveraging NumPy's broadcasting rules.\n",
    "one_dim=np.array([1,2,3])\n",
    "two_dim=np.array([[4,5,6],[7,8,9]])\n",
    "result=one_dim*two_dim\n",
    "print(result)"
   ]
  },
  {
   "cell_type": "code",
   "execution_count": 5,
   "id": "7dff056d-a515-4229-a529-697088504b3f",
   "metadata": {},
   "outputs": [
    {
     "name": "stdout",
     "output_type": "stream",
     "text": [
      "Dot Product: 32\n"
     ]
    }
   ],
   "source": [
    "#5. Linear Algebra:\n",
    "#a. Calculate the dot product of two 1-dimensional arrays.\n",
    "import numpy as np\n",
    "a=np.array([1,2,3])\n",
    "b=np.array([4,5,6])\n",
    "dot_product=np.dot(a,b)\n",
    "print(\"Dot Product:\",dot_product)\n"
   ]
  },
  {
   "cell_type": "code",
   "execution_count": 7,
   "id": "6a00c34a-7769-47ce-982e-46ed29e793bb",
   "metadata": {},
   "outputs": [
    {
     "name": "stdout",
     "output_type": "stream",
     "text": [
      "Matrix Multiplication: [[120 135 142]\n",
      " [214 239 252]\n",
      " [402 447 472]]\n"
     ]
    }
   ],
   "source": [
    "#b.Compute the matrix multiplication of two 2-dimensional arrays.\n",
    "import numpy as np\n",
    "x=np.array([[1,2,4],[3,4,6],[7,8,10]])\n",
    "y=np.array([[12,13,14],[16,17,18],[19,22,23]])\n",
    "result=np.dot(x,y)\n",
    "print(\"Matrix Multiplication:\",result)\n",
    "\n"
   ]
  },
  {
   "cell_type": "code",
   "execution_count": 11,
   "id": "3211f020-c67b-4881-a33f-43d24cc6de99",
   "metadata": {},
   "outputs": [
    {
     "name": "stdout",
     "output_type": "stream",
     "text": [
      "Determinant: -2.0000000000000004\n",
      "Inverse: [[-2.   1. ]\n",
      " [ 1.5 -0.5]]\n"
     ]
    }
   ],
   "source": [
    "#c.Find the inverse and determinant of a square matrix.\n",
    "import numpy as np\n",
    "a=np.array([[1,2,],[3,4]])\n",
    "determinant=np.linalg.det(a)\n",
    "print(\"Determinant:\", determinant)\n",
    "\n",
    "if determinant!=0:\n",
    "    inverse=np.linalg.inv(a)\n",
    "    print(\"Inverse:\",inverse)\n",
    "else:\n",
    "    print(\"the matrix is singular,so it doesnot have an inverse.\")\n",
    "\n"
   ]
  },
  {
   "cell_type": "code",
   "execution_count": null,
   "id": "171da78a-72e2-4d2c-b125-8e2c2724a839",
   "metadata": {},
   "outputs": [],
   "source": []
  }
 ],
 "metadata": {
  "kernelspec": {
   "display_name": "Python 3 (ipykernel)",
   "language": "python",
   "name": "python3"
  },
  "language_info": {
   "codemirror_mode": {
    "name": "ipython",
    "version": 3
   },
   "file_extension": ".py",
   "mimetype": "text/x-python",
   "name": "python",
   "nbconvert_exporter": "python",
   "pygments_lexer": "ipython3",
   "version": "3.12.4"
  }
 },
 "nbformat": 4,
 "nbformat_minor": 5
}
